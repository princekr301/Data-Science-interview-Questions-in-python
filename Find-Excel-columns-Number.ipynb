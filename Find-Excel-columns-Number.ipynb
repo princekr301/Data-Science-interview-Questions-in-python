{
 "cells": [
  {
   "cell_type": "markdown",
   "id": "4242dfcb",
   "metadata": {},
   "source": [
    "# Data Scientist Interview Question "
   ]
  },
  {
   "cell_type": "markdown",
   "id": "e6654b37",
   "metadata": {},
   "source": [
    "Given the excel column heading in alphabets, find out the equivalent column number.\n",
    "\n",
    "Problem Statement\n",
    "\n",
    "Note: The column title must be given in capital letters only.\n",
    "\n",
    "Input:\n",
    "\n",
    "AA\n",
    "\n",
    "Output:\n",
    "\n",
    "27\n",
    "\n",
    "Input:\n",
    "\n",
    "MNO\n",
    "\n",
    "Output:\n",
    "\n",
    "9167\n",
    "\n",
    "rample test case for your understanding. The program will be tested on other secret test cases in t"
   ]
  },
  {
   "cell_type": "code",
   "execution_count": 47,
   "id": "f65a4f63",
   "metadata": {},
   "outputs": [
    {
     "name": "stdout",
     "output_type": "stream",
     "text": [
      "enter the columns Name :-MNO\n",
      "9167\n"
     ]
    }
   ],
   "source": [
    "\n",
    "def excel(n):\n",
    "    result=0\n",
    "    for i in range(len(n)):\n",
    "        \n",
    "        result *=26\n",
    "        result += ord(n[i])-ord('A') + 1;\n",
    "    return result;\n",
    "print(excel(input(\"enter the columns Name :-\")))"
   ]
  },
  {
   "cell_type": "code",
   "execution_count": null,
   "id": "c249b625",
   "metadata": {},
   "outputs": [],
   "source": []
  },
  {
   "cell_type": "markdown",
   "id": "a95d01ef",
   "metadata": {},
   "source": [
    "# Dummy Test"
   ]
  },
  {
   "cell_type": "code",
   "execution_count": 46,
   "id": "bc51f501",
   "metadata": {},
   "outputs": [
    {
     "name": "stdout",
     "output_type": "stream",
     "text": [
      "enter the Number :-Z\n",
      "26\n"
     ]
    }
   ],
   "source": [
    "x=input(\"enter the Number :-\")\n",
    "y=ord(x)\n",
    "print(y-64)"
   ]
  },
  {
   "cell_type": "code",
   "execution_count": 31,
   "id": "9c9a6ec2",
   "metadata": {},
   "outputs": [
    {
     "data": {
      "text/plain": [
       "64"
      ]
     },
     "execution_count": 31,
     "metadata": {},
     "output_type": "execute_result"
    }
   ],
   "source": [
    "ord('A')-1"
   ]
  },
  {
   "cell_type": "code",
   "execution_count": 20,
   "id": "4b5061ff",
   "metadata": {},
   "outputs": [
    {
     "data": {
      "text/plain": [
       "39"
      ]
     },
     "execution_count": 20,
     "metadata": {},
     "output_type": "execute_result"
    }
   ],
   "source": [
    "65-26"
   ]
  },
  {
   "cell_type": "markdown",
   "id": "f545f084",
   "metadata": {},
   "source": [
    "# Done"
   ]
  },
  {
   "cell_type": "code",
   "execution_count": null,
   "id": "f0d7220b",
   "metadata": {},
   "outputs": [],
   "source": []
  }
 ],
 "metadata": {
  "kernelspec": {
   "display_name": "Python 3 (ipykernel)",
   "language": "python",
   "name": "python3"
  },
  "language_info": {
   "codemirror_mode": {
    "name": "ipython",
    "version": 3
   },
   "file_extension": ".py",
   "mimetype": "text/x-python",
   "name": "python",
   "nbconvert_exporter": "python",
   "pygments_lexer": "ipython3",
   "version": "3.10.9"
  }
 },
 "nbformat": 4,
 "nbformat_minor": 5
}
